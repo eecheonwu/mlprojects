{
  "nbformat": 4,
  "nbformat_minor": 0,
  "metadata": {
    "colab": {
      "name": "Cassava Project 2.ipynb",
      "provenance": [],
      "collapsed_sections": []
    },
    "kernelspec": {
      "name": "python3",
      "display_name": "Python 3"
    },
    "accelerator": "GPU"
  },
  "cells": [
    {
      "cell_type": "code",
      "metadata": {
        "id": "fCPCYYJuw9Fn",
        "colab_type": "code",
        "colab": {}
      },
      "source": [
        "from __future__ import print_function, division\n",
        "\n",
        "import torch\n",
        "import torch.nn as nn\n",
        "import torch.optim as optim\n",
        "from torch.optim import lr_scheduler\n",
        "import numpy as np\n",
        "import torchvision\n",
        "from torchvision import datasets, models, transforms\n",
        "import matplotlib.pyplot as plt\n",
        "import time\n",
        "import os\n",
        "import copy\n",
        "\n",
        "plt.ion()"
      ],
      "execution_count": 0,
      "outputs": []
    },
    {
      "cell_type": "code",
      "metadata": {
        "id": "I8P2xZir0LN0",
        "colab_type": "code",
        "colab": {
          "base_uri": "https://localhost:8080/",
          "height": 124
        },
        "outputId": "03e91dd0-d7d2-443d-ed65-f9ab03781809"
      },
      "source": [
        "from google.colab import drive\n",
        "drive.mount('/content/drive')"
      ],
      "execution_count": 2,
      "outputs": [
        {
          "output_type": "stream",
          "text": [
            "Go to this URL in a browser: https://accounts.google.com/o/oauth2/auth?client_id=947318989803-6bn6qk8qdgf4n4g3pfee6491hc0brc4i.apps.googleusercontent.com&redirect_uri=urn%3aietf%3awg%3aoauth%3a2.0%3aoob&response_type=code&scope=email%20https%3a%2f%2fwww.googleapis.com%2fauth%2fdocs.test%20https%3a%2f%2fwww.googleapis.com%2fauth%2fdrive%20https%3a%2f%2fwww.googleapis.com%2fauth%2fdrive.photos.readonly%20https%3a%2f%2fwww.googleapis.com%2fauth%2fpeopleapi.readonly\n",
            "\n",
            "Enter your authorization code:\n",
            "··········\n",
            "Mounted at /content/drive\n"
          ],
          "name": "stdout"
        }
      ]
    },
    {
      "cell_type": "code",
      "metadata": {
        "id": "-v73-VIG0My7",
        "colab_type": "code",
        "colab": {}
      },
      "source": [
        "!unzip -q \"/content/drive/My Drive/cassava1.zip\""
      ],
      "execution_count": 0,
      "outputs": []
    },
    {
      "cell_type": "code",
      "metadata": {
        "id": "-DkaG77fSefj",
        "colab_type": "code",
        "colab": {}
      },
      "source": [
        ""
      ],
      "execution_count": 0,
      "outputs": []
    },
    {
      "cell_type": "code",
      "metadata": {
        "id": "miqPOOVnSIUr",
        "colab_type": "code",
        "colab": {}
      },
      "source": [
        "data_dir = '/content/cassava'\n",
        "train_dataset = datasets.ImageFolder(root=traindir,transform=transform_train)\n",
        "test_dataset = datasets.ImageFolder(root=data_dir,transform=transform_test)\n",
        "num_classes = len(train_dataset.classes)\n",
        " \n",
        "class_sample_counts = [408, 1236, 720, 2460, 288]\n",
        "\n",
        "   # compute weight for all the samples in the dataset\n",
        "   # samples_weights contain the probability for each example in dataset to be sampled  \n",
        "class_weights = 1./torch.Tensor(class_sample_counts)\n",
        "train_targets = [sample[1] for sample in train_dataset.imgs]\n",
        "train_samples_weight = [class_weights[class_id] for class_id in train_targets]\n",
        "test_targets = [sample[1] for sample in test_dataset.imgs]\n",
        "test_samples_weight = [class_weights[class_id] for class_id in test_targets]\n",
        "\n",
        "   # now lets initialize samplers \n",
        "train_sampler = torch.utils.data.sampler.WeightedRandomSampler(train_samples_weight, len(train_dataset))\n",
        "test_sampler = torch.utils.data.sampler.WeightedRandomSampler(test_samples_weight, len(test_dataset))\n",
        "\n",
        "#train_loader = torch.utils.data.DataLoader(train_dataset, batch_size=args.batch_size,sampler=train_sampler, **kwargs)\n",
        "#val_loader = torch.utils.data.DataLoader(test_dataset, batch_size=args.batch_size, sampler=test_sampler, **kwargs)\n",
        "\n"
      ],
      "execution_count": 0,
      "outputs": []
    },
    {
      "cell_type": "code",
      "metadata": {
        "id": "B9HVWY-7I9vM",
        "colab_type": "code",
        "colab": {}
      },
      "source": [
        "imagenet_mean = [0.4850, 0.4560, 0.4060]\n",
        "imagenet_std = [0.2290, 0.2240, 0.2250]\n",
        "datasets_mean = [0.4471, 0.5011, 0.3216]\n",
        "datasets_std = [0.1900, 0.1912, 0.1633]"
      ],
      "execution_count": 0,
      "outputs": []
    },
    {
      "cell_type": "code",
      "metadata": {
        "id": "Vp0CNA9HxinQ",
        "colab_type": "code",
        "colab": {}
      },
      "source": [
        "\n",
        "# Data augmentation and normalization for training\n",
        "# Just normalization for validation\n",
        "data_transforms = {\n",
        "    'train': transforms.Compose([\n",
        "        transforms.RandomResizedCrop(224),\n",
        "        transforms.RandomHorizontalFlip(),\n",
        "        transforms.ToTensor(),\n",
        "        transforms.Normalize(datasets_mean, datasets_std)\n",
        "    ]),\n",
        "    'valid': transforms.Compose([\n",
        "        transforms.Resize(256),\n",
        "        transforms.CenterCrop(224),\n",
        "        transforms.ToTensor(),\n",
        "        transforms.Normalize(datasets_mean, datasets_std)\n",
        "    ]),\n",
        "}\n",
        "\n",
        "data_dir = '/content/cassava'\n",
        "image_datasets = {x: datasets.ImageFolder(os.path.join(data_dir, x),\n",
        "                                          data_transforms[x])\n",
        "                  for x in ['train', 'valid']}\n",
        "dataloaders = {x: torch.utils.data.DataLoader(image_datasets[x], batch_size=8,\n",
        "                                             shuffle=True, num_workers=4)\n",
        "              for x in ['train', 'valid']}\n",
        "dataset_sizes = {x: len(image_datasets[x]) for x in ['train', 'valid']}\n",
        "class_names = image_datasets['train'].classes\n",
        "\n",
        "device = torch.device(\"cuda:0\" if torch.cuda.is_available() else \"cpu\")\n"
      ],
      "execution_count": 0,
      "outputs": []
    },
    {
      "cell_type": "code",
      "metadata": {
        "id": "ngamvLC-x27b",
        "colab_type": "code",
        "colab": {
          "base_uri": "https://localhost:8080/",
          "height": 106
        },
        "outputId": "7e9add02-e274-4a5a-b774-ddb91096a886"
      },
      "source": [
        "#View Images\n",
        "def imshow(inp, title=None):\n",
        "    \"\"\"Imshow for Tensor.\"\"\"\n",
        "    inp = inp.numpy().transpose((1, 2, 0))\n",
        "    mean = np.array(datasets_mean)\n",
        "    std = np.array(datasets_std)\n",
        "    inp = std * inp + mean\n",
        "    inp = np.clip(inp, 0, 1)\n",
        "    plt.imshow(inp)\n",
        "    if title is not None:\n",
        "        plt.title(title)\n",
        "    plt.pause(0.001)  # pause a bit so that plots are updated\n",
        "\n",
        "\n",
        "# Get a batch of training data\n",
        "inputs, classes = next(iter(dataloaders['train']))\n",
        "\n",
        "# Make a grid from batch\n",
        "out = torchvision.utils.make_grid(inputs)\n",
        "\n",
        "imshow(out, title=[class_names[x] for x in classes])\n"
      ],
      "execution_count": 73,
      "outputs": [
        {
          "output_type": "display_data",
          "data": {
            "image/png": "[encoded data removed]",
            "text/plain": [
              "<Figure size 432x288 with 1 Axes>"
            ]
          },
          "metadata": {
            "tags": [],
            "needs_background": "light"
          }
        }
      ]
    },
    {
      "cell_type": "markdown",
      "metadata": {
        "id": "9hZ_JZlJ9zpK",
        "colab_type": "text"
      },
      "source": [
        "## **Train Model**"
      ]
    },
    {
      "cell_type": "code",
      "metadata": {
        "id": "GxSo0chTyDrq",
        "colab_type": "code",
        "colab": {}
      },
      "source": [
        "def train_model(model, criterion, optimizer, scheduler, num_epochs=70):\n",
        "    since = time.time()\n",
        "\n",
        "    best_model_wts = copy.deepcopy(model.state_dict())\n",
        "    best_acc = 0.0\n",
        "\n",
        "    for epoch in range(num_epochs):\n",
        "        print('Epoch {}/{}'.format(epoch, num_epochs - 1))\n",
        "        print('-' * 10)\n",
        "\n",
        "        # Each epoch has a training and validation phase\n",
        "        for phase in ['train', 'valid']:\n",
        "            if phase == 'train':\n",
        "                model.train()  # Set model to training mode\n",
        "            else:\n",
        "                model.eval()   # Set model to evaluate mode\n",
        "\n",
        "            running_loss = 0.0\n",
        "            running_corrects = 0\n",
        "\n",
        "            # Iterate over data.\n",
        "            for inputs, labels in dataloaders[phase]:\n",
        "                \n",
        "                inputs = inputs.to(device)\n",
        "                labels = labels.to(device)\n",
        "\n",
        "                # zero the parameter gradients\n",
        "                optimizer.zero_grad()\n",
        "\n",
        "                # forward\n",
        "                # track history if only in train\n",
        "                with torch.set_grad_enabled(phase == 'train'):\n",
        "                    inputs = torch.add(inputs, torch.rand_like(inputs))\n",
        "                    outputs = model(inputs)\n",
        "                    _, preds = torch.max(outputs, 1)\n",
        "                    loss = criterion(outputs, labels)\n",
        "                    \n",
        "                    # backward + optimize only if in training phase\n",
        "                    if phase == 'train':\n",
        "                        loss.backward()\n",
        "                        optimizer.step()\n",
        "\n",
        "                # statistics\n",
        "                running_loss += loss.item() * inputs.size(0)\n",
        "                running_corrects += torch.sum(preds == labels.data)\n",
        "            if phase == 'train':\n",
        "                scheduler.step()\n",
        "\n",
        "            epoch_loss = running_loss / dataset_sizes[phase]\n",
        "            epoch_acc = running_corrects.double() / dataset_sizes[phase]\n",
        "\n",
        "            print('{} Loss: {:.4f} Acc: {:.4f}'.format(\n",
        "                phase, epoch_loss, epoch_acc))\n",
        "\n",
        "            # deep copy the model\n",
        "            if phase == 'valid' and epoch_acc > best_acc:\n",
        "                best_acc = epoch_acc\n",
        "                best_model_wts = copy.deepcopy(model.state_dict())\n",
        "\n",
        "        print()\n",
        "\n",
        "    time_elapsed = time.time() - since\n",
        "    print('Training complete in {:.0f}m {:.0f}s'.format(\n",
        "        time_elapsed // 60, time_elapsed % 60))\n",
        "    print('Best valid Acc: {:4f}'.format(best_acc))\n",
        "\n",
        "    # load best model weights\n",
        "    model.load_state_dict(best_model_wts)\n",
        "    return model"
      ],
      "execution_count": 0,
      "outputs": []
    },
    {
      "cell_type": "code",
      "metadata": {
        "id": "xW6D8jiiyH21",
        "colab_type": "code",
        "colab": {}
      },
      "source": [
        ""
      ],
      "execution_count": 0,
      "outputs": []
    },
    {
      "cell_type": "code",
      "metadata": {
        "id": "bgwKWGpXqvHb",
        "colab_type": "code",
        "colab": {}
      },
      "source": [
        ""
      ],
      "execution_count": 0,
      "outputs": []
    },
    {
      "cell_type": "markdown",
      "metadata": {
        "id": "GUt0y6xjqwsZ",
        "colab_type": "text"
      },
      "source": [
        "## **No freeze Layers**"
      ]
    },
    {
      "cell_type": "code",
      "metadata": {
        "id": "TLm1Xh9xyQ1i",
        "colab_type": "code",
        "colab": {}
      },
      "source": [
        "model33a = models.resnet101(pretrained=True)\n",
        "num_ftrs = model33a.fc.in_features\n",
        "# Here the size of each output sample is set to 2.\n",
        "# Alternatively, it can be generalized to nn.Linear(num_ftrs, len(class_names)).\n",
        "model33a.fc = nn.Linear(num_ftrs, 5)\n",
        "model33a.load_state_dict(torch.load('/content/drive/My Drive/model33a.pth'))\n",
        "\n",
        "model33a = model33a.to(device)\n",
        "\n",
        "criterion = nn.CrossEntropyLoss()\n",
        "\n",
        "# Observe that all parameters are being optimized\n",
        "optimizer_ft = optim.SGD(model33a.parameters(), lr=0.001, momentum=0.5)\n",
        "\n",
        "# Decay LR by a factor of 0.1 every 7 epochs\n",
        "exp_lr_scheduler = lr_scheduler.StepLR(optimizer_ft, step_size=20, gamma=0.1)\n"
      ],
      "execution_count": 0,
      "outputs": []
    },
    {
      "cell_type": "code",
      "metadata": {
        "id": "tlx4KhNXyZ5f",
        "colab_type": "code",
        "colab": {
          "base_uri": "https://localhost:8080/",
          "height": 573
        },
        "outputId": "4d90ddcb-fd80-4c2a-d0e7-57313a56965b"
      },
      "source": [
        "model33a = train_model(model33a, criterion, optimizer_ft, exp_lr_scheduler,num_epochs=50)"
      ],
      "execution_count": 0,
      "outputs": [
        {
          "output_type": "stream",
          "text": [
            "Epoch 0/49\n",
            "----------\n",
            "train Loss: 0.1507 Acc: 0.9519\n",
            "valid Loss: 0.3612 Acc: 0.9109\n",
            "\n",
            "Epoch 1/49\n",
            "----------\n",
            "train Loss: 0.1495 Acc: 0.9530\n",
            "valid Loss: 0.3786 Acc: 0.9156\n",
            "\n",
            "Epoch 2/49\n",
            "----------\n",
            "train Loss: 0.1582 Acc: 0.9482\n",
            "valid Loss: 0.3595 Acc: 0.9081\n",
            "\n",
            "Epoch 3/49\n",
            "----------\n",
            "train Loss: 0.1585 Acc: 0.9471\n",
            "valid Loss: 0.3691 Acc: 0.9053\n",
            "\n",
            "Epoch 4/49\n",
            "----------\n",
            "train Loss: 0.1504 Acc: 0.9516\n",
            "valid Loss: 0.3827 Acc: 0.9099\n",
            "\n",
            "Epoch 5/49\n",
            "----------\n",
            "train Loss: 0.1600 Acc: 0.9465\n",
            "valid Loss: 0.3439 Acc: 0.9109\n",
            "\n",
            "Epoch 6/49\n",
            "----------\n"
          ],
          "name": "stdout"
        }
      ]
    },
    {
      "cell_type": "code",
      "metadata": {
        "id": "RB4TSB2xykoD",
        "colab_type": "code",
        "colab": {}
      },
      "source": [
        "PATH = '/content/drive/My Drive/model33a.pth'\n",
        "torch.save(model33a.state_dict(), PATH )"
      ],
      "execution_count": 0,
      "outputs": []
    },
    {
      "cell_type": "code",
      "metadata": {
        "id": "_1CSNhLNf-av",
        "colab_type": "code",
        "colab": {}
      },
      "source": [
        ""
      ],
      "execution_count": 0,
      "outputs": []
    },
    {
      "cell_type": "markdown",
      "metadata": {
        "id": "1WgJAeFay3Yv",
        "colab_type": "text"
      },
      "source": [
        "## **Freeze Layers**"
      ]
    },
    {
      "cell_type": "code",
      "metadata": {
        "id": "55vfHpy2y74a",
        "colab_type": "code",
        "colab": {}
      },
      "source": [
        "model33b = torchvision.models.resnet101(pretrained=True)\n",
        "for param in model33b.parameters():\n",
        "    param.requires_grad = False\n",
        "\n",
        "# Parameters of newly constructed modules have requires_grad=True by default\n",
        "num_ftrs = model33b.fc.in_features\n",
        "model33b.fc = nn.Linear(num_ftrs, 5)\n",
        "\n",
        "model33b = model33b.to(device)\n",
        "\n",
        "criterion = nn.CrossEntropyLoss()\n",
        "\n",
        "# Observe that only parameters of final layer are being optimized as\n",
        "# opposed to before.\n",
        "optimizer_conv = optim.SGD(model33b.fc.parameters(), lr=0.01, momentum=0.5)\n",
        "\n",
        "# Decay LR by a factor of 0.1 every 7 epochs\n",
        "exp_lr_scheduler = lr_scheduler.StepLR(optimizer_conv, step_size=7, gamma=0.1)"
      ],
      "execution_count": 0,
      "outputs": []
    },
    {
      "cell_type": "code",
      "metadata": {
        "id": "QuUAsZtPzG0T",
        "colab_type": "code",
        "colab": {}
      },
      "source": [
        "model33b = train_model(model33b, criterion, optimizer_conv,exp_lr_scheduler, num_epochs=25)"
      ],
      "execution_count": 0,
      "outputs": []
    },
    {
      "cell_type": "code",
      "metadata": {
        "id": "4PY8dSTXzSpb",
        "colab_type": "code",
        "colab": {}
      },
      "source": [
        "PATH = '/content/drive/My Drive/model33b.pth'\n",
        "torch.save(model33b.state_dict(), PATH )"
      ],
      "execution_count": 0,
      "outputs": []
    },
    {
      "cell_type": "code",
      "metadata": {
        "id": "-UUz8Exa9vXk",
        "colab_type": "code",
        "colab": {}
      },
      "source": [
        ""
      ],
      "execution_count": 0,
      "outputs": []
    },
    {
      "cell_type": "code",
      "metadata": {
        "id": "hImV0SR-9wBx",
        "colab_type": "code",
        "colab": {}
      },
      "source": [
        ""
      ],
      "execution_count": 0,
      "outputs": []
    },
    {
      "cell_type": "markdown",
      "metadata": {
        "id": "9b1ckWnu9woa",
        "colab_type": "text"
      },
      "source": [
        "## **Validation**"
      ]
    },
    {
      "cell_type": "code",
      "metadata": {
        "id": "M2JIymIr7Jf8",
        "colab_type": "code",
        "colab": {}
      },
      "source": [
        "model = models.resnet101(pretrained=True)\n",
        "num_ftrs = model.fc.in_features\n",
        "model.fc = nn.Linear(num_ftrs, 5)\n",
        "imagenet_mean = [0.4850, 0.4560, 0.4060]\n",
        "imagenet_std = [0.2290, 0.2240, 0.2250]\n",
        "datasets_mean = [0.4471, 0.5011, 0.3216]\n",
        "datasets_std = [0.1900, 0.1912, 0.1633]\n",
        "\n",
        "\n",
        "\n",
        "model.load_state_dict(torch.load('/content/drive/My Drive/model33a.pth'))\n",
        "\n",
        "validtransform = transforms.Compose([transforms.Resize(256), transforms.CenterCrop(224), transforms.ToTensor(),transforms.Normalize(datasets_mean, datasets_std)])\n",
        "data_dir = '/content/cassava/valid'\n",
        "valid_datasets = datasets.ImageFolder(data_dir , transform=validtransform)\n",
        "valid_loader = torch.utils.data.DataLoader(valid_datasets, batch_size=1, shuffle=False)\n"
      ],
      "execution_count": 0,
      "outputs": []
    },
    {
      "cell_type": "code",
      "metadata": {
        "id": "qyBfXKCf68KT",
        "colab_type": "code",
        "colab": {}
      },
      "source": [
        "device = torch.device(\"cuda:0\" if torch.cuda.is_available() else \"cpu\")\n",
        "def valid(model,testloader):\n",
        "  with torch.no_grad():\n",
        "    #### set the model eval mode\n",
        "    model.eval()\n",
        "    valid_acc = 0 \n",
        "    for images , labels in testloader:\n",
        "      ### set to the gpu \n",
        "      images = images.to(device)\n",
        "      labels = labels.to(device)\n",
        "      model.to(device)\n",
        "            \n",
        "      ### predict the image\n",
        "      preds = model(images)\n",
        "            #### pick the maximum index of value \n",
        "      preds = preds.detach().argmax(dim=1,keepdim=True)\n",
        "      labels = labels.detach()\n",
        "            #correct += pred.cpu().eq(target.view_as(pred)).sum().item()\n",
        "\n",
        "      valid_acc += preds.eq(labels.view_as(preds)).sum().item()            \n",
        "print(f\"Validation accuracy : {(valid_acc/len(testloader.dataset)) * 100 :.0f}%\")\n",
        "valid(model=model, testloader=valid_loader)"
      ],
      "execution_count": 0,
      "outputs": []
    },
    {
      "cell_type": "markdown",
      "metadata": {
        "id": "r0d66a4v7HV9",
        "colab_type": "text"
      },
      "source": [
        "## **VISUALIZE MODEL PREDICTION**"
      ]
    },
    {
      "cell_type": "code",
      "metadata": {
        "id": "jFNgzx_f67GZ",
        "colab_type": "code",
        "colab": {}
      },
      "source": [
        "validtransform = transforms.Compose([transforms.Resize(256), transforms.CenterCrop(224), transforms.ToTensor(),transforms.Normalize(datasets_mean, datasets_std)])\n",
        "data_dir = '/content/cassava/valid'\n",
        "valid_datasets = datasets.ImageFolder(data_dir , transform=validtransform)\n",
        "valid_loader = torch.utils.data.DataLoader(valid_datasets, batch_size=1, shuffle=False)\n",
        "\n",
        "\n",
        "def visualize_model(model, num_images=10):\n",
        "    was_training = model.training\n",
        "    model.eval()\n",
        "    images_so_far = 0\n",
        "    fig = plt.figure()\n",
        "\n",
        "    with torch.no_grad():\n",
        "        for i, (inputs, labels) in enumerate(valid_loader):\n",
        "            inputs = inputs.to(device)\n",
        "            labels = labels.to(device)\n",
        "            \n",
        "            outputs = model(inputs)\n",
        "            _, preds = torch.max(outputs, 1)\n",
        "            \n",
        "\n",
        "            for j in range(inputs.size()[0]):\n",
        "                images_so_far += 1\n",
        "                ax = plt.subplot(num_images//2, 2, images_so_far)\n",
        "                ax.axis('off')\n",
        "                ax.set_title('predicted: {}'.format(class_names[preds[j]]))\n",
        "                imshow(inputs.cpu().data[j])\n",
        "        \n",
        "                if images_so_far == num_images:\n",
        "                    model.train(mode=was_training)\n",
        "                    return\n",
        "        model.train(mode=was_training)"
      ],
      "execution_count": 0,
      "outputs": []
    },
    {
      "cell_type": "markdown",
      "metadata": {
        "id": "JplRt0iVvT8q",
        "colab_type": "text"
      },
      "source": [
        "## **Predict for kaggle**"
      ]
    },
    {
      "cell_type": "code",
      "metadata": {
        "id": "yUZ3SoyCvYfg",
        "colab_type": "code",
        "colab": {}
      },
      "source": [
        "device = torch.device(\"cuda:0\" if torch.cuda.is_available() else \"cpu\")\n",
        "\n",
        "model = models.resnet101(pretrained=True)\n",
        "num_ftrs = model.fc.in_features\n",
        "model.fc = nn.Linear(num_ftrs, 5)\n",
        "\n",
        "model.load_state_dict(torch.load('/content/drive/My Drive/model33a.pth'))\n",
        "model.to(device)\n",
        "model.eval()\n",
        "\n",
        "testtransform = transforms.Compose([transforms.Resize(256), transforms.CenterCrop(224), transforms.ToTensor(),transforms.Normalize(datasets_mean, datasets_std)])\n",
        "data_dir = '/content/cassava/test'\n",
        "\n",
        "\n",
        "test_datasets = datasets.ImageFolder(data_dir , transform=testtransform)\n",
        "test_loader = torch.utils.data.DataLoader(test_datasets, batch_size=1, shuffle=False)\n",
        "\n",
        "class_name = valid_datasets.classes\n",
        "#targets = dataset.targets\n",
        "\n",
        "#Prediction for submission \n",
        "predictions = []\n",
        "with torch.no_grad():\n",
        "    for data, _ in test_loader:\n",
        "        data = data.to(device)\n",
        "        predict = model(data)\n",
        "        _, max_index = torch.max(predict,1)\n",
        "        predictions.append(max_index.cpu())\n",
        "\n",
        "\n",
        "predictions = torch.cat(predictions)\n",
        "class_names = np.array(class_name)\n",
        "prediction_class = class_names[predictions]\n",
        "#in test_dataset.imgs, in the first tuple we extract the image name from, it start from the 7iem character\n",
        "filenames = [filename[24:] for filename,_ in test_datasets.imgs]\n",
        "#create a pandas file\n",
        "import pandas as pd\n",
        "submission = pd.DataFrame.from_dict({'Category':prediction_class,'Id':filenames}\n",
        ")\n",
        "#create a csv file to submit from the panda file\n",
        "submission.to_csv('name_submission.csv', header = True, index = False)"
      ],
      "execution_count": 0,
      "outputs": []
    },
    {
      "cell_type": "code",
      "metadata": {
        "id": "UoCzOfkEjwMJ",
        "colab_type": "code",
        "colab": {}
      },
      "source": [
        "#!pip install kaggle"
      ],
      "execution_count": 0,
      "outputs": []
    },
    {
      "cell_type": "code",
      "metadata": {
        "id": "TByCMPbm054E",
        "colab_type": "code",
        "colab": {}
      },
      "source": [
        "#submit to kaggle\n",
        "#!kaggle competitions submit -c ammi-2020-convnets -f name_submission.csv -m \"Message\""
      ],
      "execution_count": 0,
      "outputs": []
    },
    {
      "cell_type": "code",
      "metadata": {
        "id": "BUxt1kP7injP",
        "colab_type": "code",
        "colab": {}
      },
      "source": [
        ""
      ],
      "execution_count": 0,
      "outputs": []
    }
  ]
}